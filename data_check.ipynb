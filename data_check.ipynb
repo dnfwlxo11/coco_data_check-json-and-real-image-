{
 "cells": [
  {
   "cell_type": "code",
   "execution_count": 8,
   "metadata": {},
   "outputs": [],
   "source": [
    "import os\n",
    "import json"
   ]
  },
  {
   "cell_type": "code",
   "execution_count": null,
   "metadata": {},
   "outputs": [],
   "source": []
  },
  {
   "cell_type": "markdown",
   "metadata": {},
   "source": [
    "### 각 클래스별 정상 이상 태스크 명들 읽어오기"
   ]
  },
  {
   "cell_type": "code",
   "execution_count": 34,
   "metadata": {},
   "outputs": [],
   "source": [
    "os.chdir('/home/daein/Jupyter_notebook/data_tmp')\n",
    "class_li = os.listdir()"
   ]
  },
  {
   "cell_type": "code",
   "execution_count": 35,
   "metadata": {},
   "outputs": [],
   "source": [
    "# 각 클래스별 태스크 명 가져오는 함수\n",
    "def get_taskName(state):\n",
    "    class_dict_tmp = {}\n",
    "    \n",
    "    for i in class_li:\n",
    "        try:\n",
    "            class_dict_tmp[i] = os.listdir(os.path.join('./', i, state))\n",
    "            print(i + ' 클래스 {} 태스크 리스트 추출 완료\\n'.format(state), '-' * 50)\n",
    "\n",
    "        except:\n",
    "            print(i + ' 클래스 일부에 {} 태스크가 없음'.format(state))\n",
    "            \n",
    "    return class_dict_tmp\n",
    "\n",
    "# class_dict_normal = {}\n",
    "# class_dict_normal = get_taskName('정상')\n",
    "\n",
    "# class_dict_abnormal = {}\n",
    "# class_dict_abnormal = get_taskName('이상')\n",
    "\n",
    "class_dict = {}\n",
    "class_dict = get_taskName('')"
   ]
  },
  {
   "cell_type": "code",
   "execution_count": null,
   "metadata": {},
   "outputs": [],
   "source": []
  },
  {
   "cell_type": "markdown",
   "metadata": {},
   "source": [
    "### 각 클래스 태스크 별 이미지 개수, 존재 여부 등을 검사"
   ]
  },
  {
   "cell_type": "code",
   "execution_count": 19,
   "metadata": {},
   "outputs": [],
   "source": [
    "# class_dict_normal : 정상 클래스의 태스크 리스트\n",
    "# class_dict_abnormal : 비정상 클래스의 태스크 리스트"
   ]
  },
  {
   "cell_type": "code",
   "execution_count": 20,
   "metadata": {},
   "outputs": [],
   "source": [
    "# json 파일에서 이미지 명, 클래스 명 빼오는 함수\n",
    "def load_json_imageList(file):\n",
    "    json_in_imageName = []\n",
    "    json_in_classId = []\n",
    "    json_in_className = []\n",
    "    \n",
    "    with open(file, 'r', encoding='utf-8') as f:\n",
    "        data = json.load(f)\n",
    "        images_li = data['images']\n",
    "        cate_li = data['categories']\n",
    "        labelMap_li = data['categories']\n",
    "    \n",
    "        for i in range(len(images_li)):\n",
    "            json_in_imageName.append(images_li[i]['file_name'])\n",
    "            \n",
    "        for i in range(len(cate_li)):\n",
    "            json_in_className.append(cate_li[i]['name'])\n",
    "            json_in_classId.append(cate_li[i]['id'])\n",
    "            \n",
    "    return json_in_imageName, json_in_className, json_in_classId, labelMap_li"
   ]
  },
  {
   "cell_type": "code",
   "execution_count": 33,
   "metadata": {
    "scrolled": false
   },
   "outputs": [],
   "source": [
    "class_labelMap = {}\n",
    "\n",
    "# Json 파일 내의 이미지 파일 이름을 가져오는 함수\n",
    "def inner_ImglistToJson(status, class_dict):\n",
    "    f = open('./data_check.txt', 'w')\n",
    "    \n",
    "    for i in class_dict:\n",
    "        for j in class_dict[i]:\n",
    "            try:\n",
    "                # json 내 이미지 리스트 추출\n",
    "                jsonName = os.listdir(os.path.join(i, status, j, 'annotations'))\n",
    "                json_result = load_json_imageList(os.path.join(i, status, j, 'annotations', jsonName[0]))\n",
    "                json_in_imageName = json_result[0]\n",
    "                json_in_className = json_result[1]\n",
    "                json_in_labelMap = json_result[3]\n",
    "                \n",
    "                if i in class_labelMap.keys(): \n",
    "                    class_labelMap[i].append([json_result[2][0], json_result[1][0]])\n",
    "                else:\n",
    "                    class_labelMap[i] = []\n",
    "                    class_labelMap[i].append([json_result[2][0], json_result[1][0]])\n",
    "                    \n",
    "                real_imageName = os.listdir(os.path.join(i, status, j, 'images'))\n",
    "                \n",
    "#                 print('검사 클래스 명 : \\t', i), \n",
    "#                 print('검사 태스크 명 : \\t', j)\n",
    "#                 print('json 파일 내의 이미지 개수 : \\t', len(json_in_imageName))\n",
    "#                 print('json 파일 내의 클래스 명 : \\t', json_in_className)\n",
    "#                 print('json 파일 내의 라벨맵 : \\t', json_in_labelMap)\n",
    "#                 print('실제 이미지 개수 : \\t', len(real_imageName))\n",
    "#                 print('실제 파일명과 동일 여부 : \\t', '같음' if (sorted(json_in_imageName) == sorted(real_imageName)) else '다름')\n",
    "#                 print('-'*50)\n",
    "\n",
    "                f.write('검사 클래스 명 : \\t' + i + '\\n'), \n",
    "                f.write('검사 태스크 명 : \\t' + j + '\\n')\n",
    "                f.write('json 파일 내의 이미지 개수 : \\t' + str(len(json_in_imageName)) + '\\n')\n",
    "                f.write('json 파일 내의 클래스 명 : \\t' + str(json_in_className) + '\\n')\n",
    "                f.write('json 파일 내의 라벨맵 : \\t' + str(json_in_labelMap) + '\\n')\n",
    "                f.write('실제 이미지 개수 : \\t' + str(len(real_imageName)) + '\\n')\n",
    "                f.write('실제 파일명과 동일 여부 : \\t' + ('같음' if (sorted(json_in_imageName) == sorted(real_imageName)) else '다름'))\n",
    "                f.write('\\n')\n",
    "                f.write('-'*50)\n",
    "                f.write('\\n')\n",
    "                \n",
    "                \n",
    "            except:\n",
    "                print(i + ' 클래스 일부에 {} 태스크가 없음\\n'.format(status), '-' * 50)\n",
    "                \n",
    "    f.close()\n",
    "                \n",
    "inner_ImglistToJson('', class_dict)"
   ]
  },
  {
   "cell_type": "code",
   "execution_count": null,
   "metadata": {},
   "outputs": [],
   "source": []
  },
  {
   "cell_type": "markdown",
   "metadata": {},
   "source": [
    "### 라벨맵 중복 확인 (미완성)"
   ]
  },
  {
   "cell_type": "code",
   "execution_count": 36,
   "metadata": {},
   "outputs": [],
   "source": [
    "for i in class_li:\n",
    "    class_labelMap[i] = list(set([tuple(set(i)) for i in class_labelMap[i]]))\n",
    "    print(i + ' :',class_labelMap[i])"
   ]
  },
  {
   "cell_type": "code",
   "execution_count": null,
   "metadata": {},
   "outputs": [],
   "source": []
  }
 ],
 "metadata": {
  "kernelspec": {
   "display_name": "Python 3",
   "language": "python",
   "name": "python3"
  },
  "language_info": {
   "codemirror_mode": {
    "name": "ipython",
    "version": 3
   },
   "file_extension": ".py",
   "mimetype": "text/x-python",
   "name": "python",
   "nbconvert_exporter": "python",
   "pygments_lexer": "ipython3",
   "version": "3.8.5"
  }
 },
 "nbformat": 4,
 "nbformat_minor": 2
}
